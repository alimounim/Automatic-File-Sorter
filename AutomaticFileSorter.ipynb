# This Python script organizes files in a specified directory (c:\Users\Ali\Files\) 
# into categorized subfolders based on their file types (.csv, .txt, .png). It ensures each file
# is moved to its corresponding folder (CSV Files, Text Files, Image Files) if the folder does not
# already exist. The script automates file management, reducing manual sorting efforts.

import os  # Import the os module for interacting with the operating system
import shutil  # Import shutil for high-level file operations like moving files


# Print the current working directory
print(os.getcwd())  # Useful for debugging and verifying the current directory context

# Define the path to the directory containing the files
path = r'c:\Users\Ali\Files\\'

# List all files and folders in the specified directory
os.listdir(path)

# Define folder names for organizing files by type
folder_names = ['CSV Files', 'Text Files', 'Image Files']

# Create folders if they do not already exist
for folder in folder_names:
    if not os.path.exists(path + folder):  # Check if the folder exists
        os.makedirs(path + folder)  # Create the folder if it doesn't exist

# Get a list of all files in the directory
file_names = os.listdir(path)

# Resetting path variable (redundant, could be removed)
path = r'c:\Users\Ali\Files\\'

# Move files to their respective folders based on file extension
for file in file_names:
    if ".csv" in file and not os.path.exists(path + "CSV Files\\" + file):  # Check if file is .csv and not already in target folder
        shutil.move(path + file, path + "CSV Files\\" + file)  # Move CSV file
    elif ".png" in file and not os.path.exists(path + "Image Files\\" + file):  # Check if file is .png and not already in target folder
        shutil.move(path + file, path + "Image Files\\" + file)  # Move PNG file
    elif ".txt" in file and not os.path.exists(path + "Text Files\\" + file):  # Check if file is .txt and not already in target folder
        shutil.move(path + file, path + "Text Files\\" + file)  # Move TXT file

# Duplicate loop (Unnecessary, can be removed as it repeats the same functionality)
for file in file_names:
    if ".csv" in file and not os.path.exists(path + "CSV Files\\" + file):
        shutil.move(path + file, path + "CSV Files\\" + file)
    elif ".png" in file and not os.path.exists(path + "Image Files\\" + file):
        shutil.move(path + file, path + "Image Files\\" + file)
    elif ".txt" in file and not os.path.exists(path + "Text Files\\" + file):
        shutil.move(path + file, path + "Text Files\\" + file)
